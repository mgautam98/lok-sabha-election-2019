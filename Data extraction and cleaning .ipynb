{
 "cells": [
  {
   "cell_type": "code",
   "execution_count": 1,
   "metadata": {},
   "outputs": [],
   "source": [
    "import requests\n",
    "import time\n",
    "from bs4 import BeautifulSoup as BS\n",
    "import pandas as pd\n",
    "import matplotlib.pyplot as plt"
   ]
  },
  {
   "cell_type": "code",
   "execution_count": 2,
   "metadata": {},
   "outputs": [],
   "source": [
    "url = \"http://www.myneta.info/LokSabha2019/index.php?action=summary&subAction=candidates_analyzed&sort=candidate#summary\""
   ]
  },
  {
   "cell_type": "code",
   "execution_count": 3,
   "metadata": {},
   "outputs": [],
   "source": [
    "r = requests.get(url)"
   ]
  },
  {
   "cell_type": "code",
   "execution_count": 4,
   "metadata": {},
   "outputs": [],
   "source": [
    "CandidateData = BS(r.text, features=\"html5lib\").find_all('table')[1].find_all('tr')"
   ]
  },
  {
   "cell_type": "code",
   "execution_count": 5,
   "metadata": {},
   "outputs": [],
   "source": [
    "CandidateData = CandidateData[2:]"
   ]
  },
  {
   "cell_type": "code",
   "execution_count": 6,
   "metadata": {},
   "outputs": [],
   "source": [
    "Candidate = []"
   ]
  },
  {
   "cell_type": "code",
   "execution_count": 7,
   "metadata": {},
   "outputs": [],
   "source": [
    "for ix in range(len(CandidateData)):\n",
    "    newCan = CandidateData[ix].find_all('td')\n",
    "    name = newCan[1].text\n",
    "    Constituency = newCan[2].text\n",
    "    Party = newCan[3].text\n",
    "    Cases = int(newCan[4].text)\n",
    "    Education = newCan[5].text\n",
    "    Assets = 0\n",
    "    Liabilities = 0\n",
    "    if CandidateData[ix].find_all('td')[6].get_text() != 'Nil':\n",
    "        Assetes = newCan[6].get_text().split('~')[0].split()[1]\n",
    "    if CandidateData[ix].find_all('td')[7].get_text() != 'Nil':\n",
    "        Liabilities = newCan[7].get_text().split('~')[0].split()[1]\n",
    "    Candidate.append({\n",
    "        'Name' : name,\n",
    "        'Constituency' : Constituency,\n",
    "        'Party' : Party,\n",
    "        'Cases' : Cases,\n",
    "        'Education' : Education,\n",
    "        'Assets' : Assets,\n",
    "        'Liabilities' : Liabilities\n",
    "    })\n"
   ]
  },
  {
   "cell_type": "code",
   "execution_count": 8,
   "metadata": {},
   "outputs": [],
   "source": [
    "data = pd.DataFrame(Candidate)"
   ]
  },
  {
   "cell_type": "code",
   "execution_count": 9,
   "metadata": {},
   "outputs": [],
   "source": [
    "data.to_csv('CandidateData.csv')"
   ]
  },
  {
   "cell_type": "code",
   "execution_count": 10,
   "metadata": {},
   "outputs": [
    {
     "data": {
      "text/html": [
       "<div>\n",
       "<style scoped>\n",
       "    .dataframe tbody tr th:only-of-type {\n",
       "        vertical-align: middle;\n",
       "    }\n",
       "\n",
       "    .dataframe tbody tr th {\n",
       "        vertical-align: top;\n",
       "    }\n",
       "\n",
       "    .dataframe thead th {\n",
       "        text-align: right;\n",
       "    }\n",
       "</style>\n",
       "<table border=\"1\" class=\"dataframe\">\n",
       "  <thead>\n",
       "    <tr style=\"text-align: right;\">\n",
       "      <th></th>\n",
       "      <th>Assets</th>\n",
       "      <th>Cases</th>\n",
       "      <th>Constituency</th>\n",
       "      <th>Education</th>\n",
       "      <th>Liabilities</th>\n",
       "      <th>Name</th>\n",
       "      <th>Party</th>\n",
       "    </tr>\n",
       "  </thead>\n",
       "  <tbody>\n",
       "    <tr>\n",
       "      <th>0</th>\n",
       "      <td>0</td>\n",
       "      <td>4</td>\n",
       "      <td>RAJKOT</td>\n",
       "      <td>12th Pass</td>\n",
       "      <td>0</td>\n",
       "      <td>Parmar Vijay</td>\n",
       "      <td>BSP</td>\n",
       "    </tr>\n",
       "    <tr>\n",
       "      <th>1</th>\n",
       "      <td>0</td>\n",
       "      <td>2</td>\n",
       "      <td>ALAPPUZHA</td>\n",
       "      <td>Graduate Professional</td>\n",
       "      <td>22,20,700</td>\n",
       "      <td>A M Ariff</td>\n",
       "      <td>CPI(M)</td>\n",
       "    </tr>\n",
       "    <tr>\n",
       "      <th>2</th>\n",
       "      <td>0</td>\n",
       "      <td>0</td>\n",
       "      <td>CHITRADURGA</td>\n",
       "      <td>Graduate</td>\n",
       "      <td>0</td>\n",
       "      <td>A Narayanaswamy</td>\n",
       "      <td>BJP</td>\n",
       "    </tr>\n",
       "    <tr>\n",
       "      <th>3</th>\n",
       "      <td>0</td>\n",
       "      <td>0</td>\n",
       "      <td>COIMBATORE</td>\n",
       "      <td>5th Pass</td>\n",
       "      <td>0</td>\n",
       "      <td>A Natarajan</td>\n",
       "      <td>IND</td>\n",
       "    </tr>\n",
       "    <tr>\n",
       "      <th>4</th>\n",
       "      <td>0</td>\n",
       "      <td>1</td>\n",
       "      <td>KOZHIKODE</td>\n",
       "      <td>12th Pass</td>\n",
       "      <td>20,79,872</td>\n",
       "      <td>A Pradeep Kumar</td>\n",
       "      <td>CPI(M)</td>\n",
       "    </tr>\n",
       "  </tbody>\n",
       "</table>\n",
       "</div>"
      ],
      "text/plain": [
       "   Assets  Cases Constituency              Education Liabilities  \\\n",
       "0       0      4       RAJKOT              12th Pass           0   \n",
       "1       0      2    ALAPPUZHA  Graduate Professional   22,20,700   \n",
       "2       0      0  CHITRADURGA               Graduate           0   \n",
       "3       0      0   COIMBATORE               5th Pass           0   \n",
       "4       0      1    KOZHIKODE              12th Pass   20,79,872   \n",
       "\n",
       "              Name   Party  \n",
       "0     Parmar Vijay     BSP  \n",
       "1        A M Ariff  CPI(M)  \n",
       "2  A Narayanaswamy     BJP  \n",
       "3      A Natarajan     IND  \n",
       "4  A Pradeep Kumar  CPI(M)  "
      ]
     },
     "execution_count": 10,
     "metadata": {},
     "output_type": "execute_result"
    }
   ],
   "source": [
    "data.head()"
   ]
  },
  {
   "cell_type": "code",
   "execution_count": null,
   "metadata": {},
   "outputs": [],
   "source": []
  }
 ],
 "metadata": {
  "kernelspec": {
   "display_name": "Python 3",
   "language": "python",
   "name": "python3"
  },
  "language_info": {
   "codemirror_mode": {
    "name": "ipython",
    "version": 3
   },
   "file_extension": ".py",
   "mimetype": "text/x-python",
   "name": "python",
   "nbconvert_exporter": "python",
   "pygments_lexer": "ipython3",
   "version": "3.6.6"
  }
 },
 "nbformat": 4,
 "nbformat_minor": 2
}
