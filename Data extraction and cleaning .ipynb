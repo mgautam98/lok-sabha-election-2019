{
 "cells": [
  {
   "cell_type": "code",
   "execution_count": 27,
   "metadata": {},
   "outputs": [],
   "source": [
    "import requests\n",
    "import time\n",
    "from bs4 import BeautifulSoup as BS\n",
    "import pandas as pd\n",
    "import matplotlib.pyplot as plt"
   ]
  },
  {
   "cell_type": "code",
   "execution_count": 28,
   "metadata": {},
   "outputs": [],
   "source": [
    "url = \"http://www.myneta.info/LokSabha2019/index.php?action=summary&subAction=candidates_analyzed&sort=candidate#summary\""
   ]
  },
  {
   "cell_type": "code",
   "execution_count": 29,
   "metadata": {},
   "outputs": [],
   "source": [
    "r = requests.get(url)"
   ]
  },
  {
   "cell_type": "code",
   "execution_count": 30,
   "metadata": {},
   "outputs": [],
   "source": [
    "CandidateData = BS(r.text, features=\"html5lib\").find_all('table')[1].find_all('tr')"
   ]
  },
  {
   "cell_type": "code",
   "execution_count": 37,
   "metadata": {},
   "outputs": [],
   "source": [
    "CandidateData = CandidateData[2:]"
   ]
  },
  {
   "cell_type": "code",
   "execution_count": 31,
   "metadata": {},
   "outputs": [],
   "source": [
    "Candidate = []"
   ]
  },
  {
   "cell_type": "code",
   "execution_count": 130,
   "metadata": {},
   "outputs": [],
   "source": [
    "for ix in range(len(CandidateData)):\n",
    "    newCan = CandidateData[ix].find_all('td')\n",
    "    name = newCan[1].text\n",
    "    Constituency = newCan[2].text\n",
    "    Party = newCan[3].text\n",
    "    Cases = newCan[4].text\n",
    "    Education = newCan[5].text\n",
    "    Assets = 0\n",
    "    Liabilities = 0\n",
    "    if CandidateData[ix].find_all('td')[6].get_text() != 'Nil':\n",
    "        Assetes = newCan[6].get_text().split('~')[0].split()[1]\n",
    "    if CandidateData[ix].find_all('td')[7].get_text() != 'Nil':\n",
    "        Liabilities = newCan[7].get_text().split('~')[0].split()[1]\n",
    "    Candidate.append({\n",
    "        'Name' : name,\n",
    "        'Constituency' : Constituency,\n",
    "        'Party' : Party,\n",
    "        'Cases' : Cases,\n",
    "        'Education' : Education,\n",
    "        'Assets' : Assets,\n",
    "        'Liabilities' : Liabilities\n",
    "    })\n"
   ]
  },
  {
   "cell_type": "code",
   "execution_count": 148,
   "metadata": {},
   "outputs": [],
   "source": [
    "data = pd.DataFrame(Candidate)"
   ]
  },
  {
   "cell_type": "code",
   "execution_count": 153,
   "metadata": {},
   "outputs": [],
   "source": [
    "data.to_csv('CandidateData.csv')"
   ]
  },
  {
   "cell_type": "code",
   "execution_count": null,
   "metadata": {},
   "outputs": [],
   "source": []
  }
 ],
 "metadata": {
  "kernelspec": {
   "display_name": "Python 3",
   "language": "python",
   "name": "python3"
  },
  "language_info": {
   "codemirror_mode": {
    "name": "ipython",
    "version": 3
   },
   "file_extension": ".py",
   "mimetype": "text/x-python",
   "name": "python",
   "nbconvert_exporter": "python",
   "pygments_lexer": "ipython3",
   "version": "3.6.6"
  }
 },
 "nbformat": 4,
 "nbformat_minor": 2
}
